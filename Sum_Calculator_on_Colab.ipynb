{
  "nbformat": 4,
  "nbformat_minor": 0,
  "metadata": {
    "colab": {
      "provenance": [],
      "authorship_tag": "ABX9TyOGIowjwR2Lr/bbJBO5fuRl",
      "include_colab_link": true
    },
    "kernelspec": {
      "name": "python3",
      "display_name": "Python 3"
    },
    "language_info": {
      "name": "python"
    }
  },
  "cells": [
    {
      "cell_type": "markdown",
      "metadata": {
        "id": "view-in-github",
        "colab_type": "text"
      },
      "source": [
        "<a href=\"https://colab.research.google.com/github/quantng/atms523/blob/main/Sum_Calculator_on_Colab.ipynb\" target=\"_parent\"><img src=\"https://colab.research.google.com/assets/colab-badge.svg\" alt=\"Open In Colab\"/></a>"
      ]
    },
    {
      "cell_type": "code",
      "execution_count": null,
      "metadata": {
        "id": "VGOPHjfydu0_"
      },
      "outputs": [],
      "source": [
        "def calculate_sum(a, b):\n",
        "    \"\"\"Calculate and return the sum of two numbers.\n",
        "\n",
        "    Args:\n",
        "        a (float): The first number.\n",
        "        b (float): The second number.\n",
        "\n",
        "    Returns:\n",
        "        float: The sum of the two numbers.\n",
        "    \"\"\"\n",
        "    return a + b\n",
        "\n",
        "\n",
        "def main():\n",
        "    \"\"\"Main function to execute the program.\"\"\"\n",
        "    # Taking user inputs\n",
        "    try:\n",
        "        num1 = float(input(\"Enter first number: \"))\n",
        "        num2 = float(input(\"Enter second number: \"))\n",
        "    except ValueError:\n",
        "        print(\"Please enter valid numbers.\")\n",
        "        return\n",
        "\n",
        "    # Calculating the sum\n",
        "    result = calculate_sum(num1, num2)\n",
        "\n",
        "    # Printing the inputs and output\n",
        "    print(f\"The sum of {num1} and {num2} is {result}\")\n",
        "\n",
        "\n",
        "if __name__ == \"__main__\":\n",
        "    main()\n"
      ]
    }
  ]
}